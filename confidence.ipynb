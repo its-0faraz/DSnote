{
  "nbformat": 4,
  "nbformat_minor": 0,
  "metadata": {
    "colab": {
      "provenance": [],
      "authorship_tag": "ABX9TyNkmtFGB5y2oq8wPKfNZpTp",
      "include_colab_link": true
    },
    "kernelspec": {
      "name": "python3",
      "display_name": "Python 3"
    },
    "language_info": {
      "name": "python"
    }
  },
  "cells": [
    {
      "cell_type": "markdown",
      "metadata": {
        "id": "view-in-github",
        "colab_type": "text"
      },
      "source": [
        "<a href=\"https://colab.research.google.com/github/its-0faraz/DSnote/blob/main/confidence.ipynb\" target=\"_parent\"><img src=\"https://colab.research.google.com/assets/colab-badge.svg\" alt=\"Open In Colab\"/></a>"
      ]
    },
    {
      "cell_type": "code",
      "execution_count": 1,
      "metadata": {
        "id": "ZWP9tf1nUcr2"
      },
      "outputs": [],
      "source": [
        "import pandas as pd\n",
        "import seaborn as sns\n",
        "from scipy import stats\n",
        "import numpy as np"
      ]
    },
    {
      "cell_type": "code",
      "source": [
        "credit = stats.norm.interval(0.95, loc=1990, scale=2500/np.sqrt(140))\n",
        "print (\"95% of confidence interval is:\", np.round(credit,4))"
      ],
      "metadata": {
        "colab": {
          "base_uri": "https://localhost:8080/"
        },
        "id": "BBn1bFWRUvQS",
        "outputId": "9d6bde67-9151-4205-d188-a78dd7cf6090"
      },
      "execution_count": 2,
      "outputs": [
        {
          "output_type": "stream",
          "name": "stdout",
          "text": [
            "95% of confidence interval is: [1575.882 2404.118]\n"
          ]
        }
      ]
    },
    {
      "cell_type": "code",
      "source": [
        "credit = stats.norm.interval(0.90, loc=1990, scale=2500/np.sqrt(140))\n",
        "print (\"90% of confidence interval is:\", np.round(credit,4))"
      ],
      "metadata": {
        "colab": {
          "base_uri": "https://localhost:8080/"
        },
        "id": "7siHaJr8U02S",
        "outputId": "8bc26c52-bbcb-44da-b767-efddf908ab56"
      },
      "execution_count": 3,
      "outputs": [
        {
          "output_type": "stream",
          "name": "stdout",
          "text": [
            "90% of confidence interval is: [1642.4612 2337.5388]\n"
          ]
        }
      ]
    },
    {
      "cell_type": "code",
      "source": [
        "credit = stats.norm.interval(0.99, loc=1990, scale=2500/np.sqrt(140))\n",
        "print (\"99% of confidence interval is:\", np.round(credit,4))"
      ],
      "metadata": {
        "colab": {
          "base_uri": "https://localhost:8080/"
        },
        "id": "87uyNXSVU2GX",
        "outputId": "bd5280e9-2fa2-45d4-e332-73ed1eb1edd8"
      },
      "execution_count": 4,
      "outputs": [
        {
          "output_type": "stream",
          "name": "stdout",
          "text": [
            "99% of confidence interval is: [1445.7567 2534.2433]\n"
          ]
        }
      ]
    },
    {
      "cell_type": "code",
      "source": [
        "credit = stats.norm.interval(1, loc=1990, scale=2500/np.sqrt(140))\n",
        "print (\"100% of confidence interval is:\", np.round(credit,4))"
      ],
      "metadata": {
        "colab": {
          "base_uri": "https://localhost:8080/"
        },
        "id": "A_OXaynBU3ww",
        "outputId": "ef7db6ec-3897-4ae0-c09a-dcb6b3c1aa5f"
      },
      "execution_count": 5,
      "outputs": [
        {
          "output_type": "stream",
          "name": "stdout",
          "text": [
            "100% of confidence interval is: [-inf  inf]\n"
          ]
        }
      ]
    },
    {
      "cell_type": "code",
      "source": [
        "credit = stats.norm.interval(0.01, loc=1990, scale=2500/np.sqrt(140))\n",
        "print (\"1% of confidence interval is:\", np.round(credit,4))"
      ],
      "metadata": {
        "colab": {
          "base_uri": "https://localhost:8080/"
        },
        "id": "bTzGUiuTU412",
        "outputId": "f1bf1dd9-1322-4253-e765-ed9289e7bf9c"
      },
      "execution_count": 6,
      "outputs": [
        {
          "output_type": "stream",
          "name": "stdout",
          "text": [
            "1% of confidence interval is: [1987.3518 1992.6482]\n"
          ]
        }
      ]
    },
    {
      "cell_type": "code",
      "source": [],
      "metadata": {
        "id": "K9eyKUTBU6mE"
      },
      "execution_count": null,
      "outputs": []
    }
  ]
}