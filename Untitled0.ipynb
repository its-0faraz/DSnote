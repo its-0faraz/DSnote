{
  "nbformat": 4,
  "nbformat_minor": 0,
  "metadata": {
    "colab": {
      "provenance": [],
      "authorship_tag": "ABX9TyPcB4RY6E6KFtZ8TLkp9awb",
      "include_colab_link": true
    },
    "kernelspec": {
      "name": "python3",
      "display_name": "Python 3"
    },
    "language_info": {
      "name": "python"
    }
  },
  "cells": [
    {
      "cell_type": "markdown",
      "metadata": {
        "id": "view-in-github",
        "colab_type": "text"
      },
      "source": [
        "<a href=\"https://colab.research.google.com/github/its-0faraz/DSnote/blob/main/Untitled0.ipynb\" target=\"_parent\"><img src=\"https://colab.research.google.com/assets/colab-badge.svg\" alt=\"Open In Colab\"/></a>"
      ]
    },
    {
      "cell_type": "code",
      "execution_count": 1,
      "metadata": {
        "id": "ZWP9tf1nUcr2"
      },
      "outputs": [],
      "source": [
        "import pandas as pd\n",
        "import seaborn as sns\n",
        "from scipy import stats\n",
        "import numpy as np"
      ]
    },
    {
      "cell_type": "code",
      "source": [
        "credit = stats.norm.interval(0.95, loc=1990, scale=2500/np.sqrt(140))\n",
        "print (\"95% of confidence interval is:\", np.round(credit,4))"
      ],
      "metadata": {
        "colab": {
          "base_uri": "https://localhost:8080/"
        },
        "id": "BBn1bFWRUvQS",
        "outputId": "2ef6a8d6-055f-48a3-a485-6fcfa236235c"
      },
      "execution_count": 2,
      "outputs": [
        {
          "output_type": "stream",
          "name": "stdout",
          "text": [
            "95% of confidence interval is: [1575.882 2404.118]\n"
          ]
        }
      ]
    },
    {
      "cell_type": "code",
      "source": [
        "credit = stats.norm.interval(0.90, loc=1990, scale=2500/np.sqrt(140))\n",
        "print (\"90% of confidence interval is:\", np.round(credit,4))"
      ],
      "metadata": {
        "colab": {
          "base_uri": "https://localhost:8080/"
        },
        "id": "7siHaJr8U02S",
        "outputId": "7cf9dffe-c60c-4c79-c810-703eddc25138"
      },
      "execution_count": 3,
      "outputs": [
        {
          "output_type": "stream",
          "name": "stdout",
          "text": [
            "90% of confidence interval is: [1642.4612 2337.5388]\n"
          ]
        }
      ]
    },
    {
      "cell_type": "code",
      "source": [
        "credit = stats.norm.interval(0.99, loc=1990, scale=2500/np.sqrt(140))\n",
        "print (\"99% of confidence interval is:\", np.round(credit,4))"
      ],
      "metadata": {
        "colab": {
          "base_uri": "https://localhost:8080/"
        },
        "id": "87uyNXSVU2GX",
        "outputId": "da4c703f-4f20-48c1-9261-7d084a9c0e3d"
      },
      "execution_count": 4,
      "outputs": [
        {
          "output_type": "stream",
          "name": "stdout",
          "text": [
            "99% of confidence interval is: [1445.7567 2534.2433]\n"
          ]
        }
      ]
    },
    {
      "cell_type": "code",
      "source": [
        "credit = stats.norm.interval(1, loc=1990, scale=2500/np.sqrt(140))\n",
        "print (\"100% of confidence interval is:\", np.round(credit,4))"
      ],
      "metadata": {
        "colab": {
          "base_uri": "https://localhost:8080/"
        },
        "id": "A_OXaynBU3ww",
        "outputId": "06794fc0-ce7d-4dd4-dd1a-e2c2ceb04529"
      },
      "execution_count": 5,
      "outputs": [
        {
          "output_type": "stream",
          "name": "stdout",
          "text": [
            "100% of confidence interval is: [-inf  inf]\n"
          ]
        }
      ]
    },
    {
      "cell_type": "code",
      "source": [
        "credit = stats.norm.interval(0.01, loc=1990, scale=2500/np.sqrt(140))\n",
        "print (\"1% of confidence interval is:\", np.round(credit,4))"
      ],
      "metadata": {
        "colab": {
          "base_uri": "https://localhost:8080/"
        },
        "id": "bTzGUiuTU412",
        "outputId": "6937f4c5-fa83-4fde-b014-589c6beda8e5"
      },
      "execution_count": 6,
      "outputs": [
        {
          "output_type": "stream",
          "name": "stdout",
          "text": [
            "1% of confidence interval is: [1987.3518 1992.6482]\n"
          ]
        }
      ]
    },
    {
      "cell_type": "code",
      "source": [
        "credit = stats.t.interval(0.95, loc=1990, scale=2833/np.sqrt(140),df=139)\n",
        "print (\"95% of confidence interval is:\", np.round(credit,4))"
      ],
      "metadata": {
        "colab": {
          "base_uri": "https://localhost:8080/"
        },
        "id": "K9eyKUTBU6mE",
        "outputId": "6d2f7b25-f72a-4b4e-cd40-ca31b73d6edb"
      },
      "execution_count": 7,
      "outputs": [
        {
          "output_type": "stream",
          "name": "stdout",
          "text": [
            "95% of confidence interval is: [1516.6 2463.4]\n"
          ]
        }
      ]
    },
    {
      "cell_type": "code",
      "source": [
        "credit = stats.t.interval(0.99, loc=1990, scale=2833/np.sqrt(140),df=139)\n",
        "print (\"99% of confidence interval is:\", np.round(credit,2))"
      ],
      "metadata": {
        "colab": {
          "base_uri": "https://localhost:8080/"
        },
        "id": "wTkbfh4q2Mg5",
        "outputId": "85e18d79-6d51-4438-a1c5-ccbc58191657"
      },
      "execution_count": 12,
      "outputs": [
        {
          "output_type": "stream",
          "name": "stdout",
          "text": [
            "99% of confidence interval is: [1364.68 2615.32]\n"
          ]
        }
      ]
    },
    {
      "cell_type": "code",
      "source": [
        "credit = stats.t.interval(0.90, loc=1990, scale=2833/np.sqrt(140),df=139)\n",
        "print (\"90% of confidence interval is:\", np.round(credit,2))"
      ],
      "metadata": {
        "colab": {
          "base_uri": "https://localhost:8080/"
        },
        "id": "b7F4Ro1525vH",
        "outputId": "3a3d5b2e-ac76-4e58-9a68-5cad0a8005ca"
      },
      "execution_count": 13,
      "outputs": [
        {
          "output_type": "stream",
          "name": "stdout",
          "text": [
            "90% of confidence interval is: [1593.53 2386.47]\n"
          ]
        }
      ]
    },
    {
      "cell_type": "code",
      "source": [
        "credit = stats.t.interval(0.01, loc=1990, scale=2833/np.sqrt(140),df=139)\n",
        "print (\"95% of confidence interval is:\", np.round(credit,4))"
      ],
      "metadata": {
        "colab": {
          "base_uri": "https://localhost:8080/"
        },
        "id": "w9yHTh3p27d-",
        "outputId": "a46682e7-d7c8-4a2a-93ce-2f22fd7dd9ee"
      },
      "execution_count": 14,
      "outputs": [
        {
          "output_type": "stream",
          "name": "stdout",
          "text": [
            "95% of confidence interval is: [1986.9937 1993.0063]\n"
          ]
        }
      ]
    },
    {
      "cell_type": "code",
      "source": [],
      "metadata": {
        "id": "T2kczOzH4sCf"
      },
      "execution_count": null,
      "outputs": []
    }
  ]
}